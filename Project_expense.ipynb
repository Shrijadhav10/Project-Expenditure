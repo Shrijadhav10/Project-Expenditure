{
 "cells": [
  {
   "cell_type": "code",
   "execution_count": 36,
   "id": "b6ad70bb",
   "metadata": {},
   "outputs": [],
   "source": [
    "import pandas as pd\n",
    "import re"
   ]
  },
  {
   "cell_type": "code",
   "execution_count": 37,
   "id": "6370afc0",
   "metadata": {},
   "outputs": [],
   "source": [
    "filename=r\"C:\\Users\\shrin\\OneDrive\\Documents\\GitHub\\Project-Expenditure\\expense.xlsx\"\n",
    "sheet_name='2022'\n",
    "xl= pd.read_excel(filename,sheet_name, header=1,usecols=range(4))"
   ]
  },
  {
   "cell_type": "code",
   "execution_count": 38,
   "id": "97aa8596",
   "metadata": {},
   "outputs": [
    {
     "data": {
      "text/plain": [
       "Index(['Date', 'Expense', 'Price', 'Total'], dtype='object')"
      ]
     },
     "execution_count": 38,
     "metadata": {},
     "output_type": "execute_result"
    }
   ],
   "source": [
    "xl.columns"
   ]
  },
  {
   "cell_type": "code",
   "execution_count": 39,
   "id": "773894a7",
   "metadata": {},
   "outputs": [
    {
     "data": {
      "text/plain": [
       "(159, 4)"
      ]
     },
     "execution_count": 39,
     "metadata": {},
     "output_type": "execute_result"
    }
   ],
   "source": [
    "xl.shape"
   ]
  },
  {
   "cell_type": "code",
   "execution_count": 40,
   "id": "5f448466",
   "metadata": {},
   "outputs": [],
   "source": [
    "xl = xl.dropna(how=\"all\")\n"
   ]
  },
  {
   "cell_type": "code",
   "execution_count": 41,
   "id": "b072718e",
   "metadata": {},
   "outputs": [
    {
     "data": {
      "text/plain": [
       "(157, 4)"
      ]
     },
     "execution_count": 41,
     "metadata": {},
     "output_type": "execute_result"
    }
   ],
   "source": [
    "xl.shape"
   ]
  },
  {
   "cell_type": "code",
   "execution_count": 42,
   "id": "b461ce6e",
   "metadata": {},
   "outputs": [],
   "source": [
    "# 1. Define month regex for exact match\n",
    "MONTH_PATTERN = re.compile(\n",
    "    r\"^(January|February|March|April|May|June|July|August|September|October|November|December)$\",\n",
    "    re.IGNORECASE\n",
    ")\n",
    "\n",
    "# 2. Detect rows in column A (index 0) that are month headers\n",
    "is_month_header = xl.iloc[:, 0].astype(str).str.strip().str.match(MONTH_PATTERN)\n",
    "\n",
    "# 3. Create a 'Month' column, forward-filling the last seen month header\n",
    "xl[\"Month\"] = xl.iloc[:, 0].where(is_month_header).ffill()\n",
    "\n",
    "# 4. (Optional) Keep this for debugging\n",
    "xl[\"IsMonthHeader\"] = is_month_header"
   ]
  },
  {
   "cell_type": "code",
   "execution_count": 43,
   "id": "9e0d1066",
   "metadata": {},
   "outputs": [],
   "source": [
    "# Convert column C to numeric (coerce errors to NaN)\n",
    "xl[\"ValueC\"] = pd.to_numeric(xl.iloc[:, 2], errors=\"coerce\")\n",
    "\n",
    "# Optional: extract year from sheet name if it contains a 4-digit year\n",
    "year_match = re.search(r\"\\b(20\\d{2})\\b\", sheet_name)\n",
    "xl[\"Year\"] = int(year_match.group(1)) if year_match else None"
   ]
  },
  {
   "cell_type": "code",
   "execution_count": 44,
   "id": "a4c2e40c",
   "metadata": {},
   "outputs": [
    {
     "name": "stdout",
     "output_type": "stream",
     "text": [
      "Excluding these rows:\n",
      "      Expense Expense_clean\n",
      "69      Total         Total\n",
      "158  December      December\n"
     ]
    },
    {
     "name": "stderr",
     "output_type": "stream",
     "text": [
      "C:\\Users\\shrin\\AppData\\Local\\Temp\\ipykernel_9716\\1278119971.py:8: UserWarning: This pattern is interpreted as a regular expression, and has match groups. To actually get the groups, use str.extract.\n",
      "  mask_exclude = xl[\"Expense_clean\"].str.contains(exclude_pattern, na=False)\n"
     ]
    }
   ],
   "source": [
    "# Clean Expense to normalize whitespace\n",
    "xl[\"Expense_clean\"] = xl[\"Expense\"].astype(str).str.replace(\"\\u00A0\", \" \").str.strip()\n",
    "\n",
    "# Pattern: whole word month names or 'total' (case-insensitive)\n",
    "exclude_pattern = re.compile(r\"\\b(total|(January|February|March|April|May|June|July|August|September|October|November|December))\\b\", re.IGNORECASE)\n",
    "\n",
    "# Mask of rows to drop\n",
    "mask_exclude = xl[\"Expense_clean\"].str.contains(exclude_pattern, na=False)\n",
    "\n",
    "# Debug what will be excluded\n",
    "print(\"Excluding these rows:\")\n",
    "print(xl.loc[mask_exclude, [\"Expense\", \"Expense_clean\"]])\n",
    "\n",
    "# Keep the rest\n",
    "xl_cleaned = xl.loc[~mask_exclude].copy()"
   ]
  },
  {
   "cell_type": "code",
   "execution_count": null,
   "id": "2c944b14",
   "metadata": {},
   "outputs": [
    {
     "name": "stdout",
     "output_type": "stream",
     "text": [
      "      Month    Sum_C\n",
      "0  November  29495.0\n",
      "1       NaN  19917.5\n"
     ]
    }
   ],
   "source": [
    "# Group by month and sum column C\n",
    "monthly_sum = (\n",
    "    xl_cleaned\n",
    "    .groupby(\"Month\", dropna=True)[\"ValueC\"]\n",
    "    .sum()\n",
    "    .reset_index(name=\"Sum_C\")\n",
    ")\n",
    "\n",
    "month_order = [\n",
    "    \"January\", \"February\", \"March\", \"April\", \"May\", \"June\",\n",
    "    \"July\", \"August\", \"September\", \"October\", \"November\", \"December\"\n",
    "]\n",
    "monthly_sum[\"Month\"] = monthly_sum[\"Month\"].str.capitalize()\n",
    "monthly_sum[\"Month\"] = pd.Categorical(monthly_sum[\"Month\"], categories=month_order, ordered=True)\n",
    "monthly_sum = monthly_sum.sort_values(\"Month\").reset_index(drop=True)\n",
    "\n",
    "# View result\n",
    "print(monthly_sum)"
   ]
  },
  {
   "cell_type": "code",
   "execution_count": 46,
   "id": "4192a258",
   "metadata": {},
   "outputs": [
    {
     "name": "stdout",
     "output_type": "stream",
     "text": [
      "Intermediate annotated data written to: debug_2022_annotated.csv\n"
     ]
    }
   ],
   "source": [
    "# Save to CSV for manual inspection before grouping\n",
    "output_debug_csv = f\"debug_{sheet_name}_annotated.csv\"\n",
    "xl.to_csv(output_debug_csv, index=False)\n",
    "print(f\"Intermediate annotated data written to: {output_debug_csv}\")"
   ]
  },
  {
   "cell_type": "code",
   "execution_count": null,
   "id": "fa9b1fa6",
   "metadata": {},
   "outputs": [],
   "source": []
  }
 ],
 "metadata": {
  "kernelspec": {
   "display_name": "base",
   "language": "python",
   "name": "python3"
  },
  "language_info": {
   "codemirror_mode": {
    "name": "ipython",
    "version": 3
   },
   "file_extension": ".py",
   "mimetype": "text/x-python",
   "name": "python",
   "nbconvert_exporter": "python",
   "pygments_lexer": "ipython3",
   "version": "3.10.9"
  }
 },
 "nbformat": 4,
 "nbformat_minor": 5
}
